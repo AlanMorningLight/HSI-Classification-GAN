{
  "nbformat": 4,
  "nbformat_minor": 0,
  "metadata": {
    "colab": {
      "name": "3DGAN_Mini_Project.ipynb",
      "provenance": [],
      "collapsed_sections": []
    },
    "kernelspec": {
      "name": "python3",
      "display_name": "Python 3"
    },
    "accelerator": "GPU"
  },
  "cells": [
    {
      "cell_type": "code",
      "metadata": {
        "id": "0m8AGwZZpG1V",
        "colab_type": "code",
        "outputId": "64b77d83-4289-4ced-bc76-596ff584c4b4",
        "colab": {
          "base_uri": "https://localhost:8080/",
          "height": 122
        }
      },
      "source": [
        "from google.colab import drive\n",
        "drive.mount('/content/drive')"
      ],
      "execution_count": 1,
      "outputs": [
        {
          "output_type": "stream",
          "text": [
            "Go to this URL in a browser: https://accounts.google.com/o/oauth2/auth?client_id=947318989803-6bn6qk8qdgf4n4g3pfee6491hc0brc4i.apps.googleusercontent.com&redirect_uri=urn%3Aietf%3Awg%3Aoauth%3A2.0%3Aoob&scope=email%20https%3A%2F%2Fwww.googleapis.com%2Fauth%2Fdocs.test%20https%3A%2F%2Fwww.googleapis.com%2Fauth%2Fdrive%20https%3A%2F%2Fwww.googleapis.com%2Fauth%2Fdrive.photos.readonly%20https%3A%2F%2Fwww.googleapis.com%2Fauth%2Fpeopleapi.readonly&response_type=code\n",
            "\n",
            "Enter your authorization code:\n",
            "··········\n",
            "Mounted at /content/drive\n"
          ],
          "name": "stdout"
        }
      ]
    },
    {
      "cell_type": "code",
      "metadata": {
        "id": "UoQLxUZwpSrt",
        "colab_type": "code",
        "colab": {}
      },
      "source": [
        "!cp /content/drive/My\\ Drive/indian-pines-hyperspectral-dataset.zip .\n",
        "!cp /content/drive/My\\ Drive/models/best_3dGAN.h5 ."
      ],
      "execution_count": 0,
      "outputs": []
    },
    {
      "cell_type": "code",
      "metadata": {
        "id": "JtjtRntmKnLp",
        "colab_type": "code",
        "outputId": "a378864a-c256-44d4-c19b-8074dc69771a",
        "colab": {
          "base_uri": "https://localhost:8080/",
          "height": 68
        }
      },
      "source": [
        "!unzip indian-pines-hyperspectral-dataset.zip"
      ],
      "execution_count": 3,
      "outputs": [
        {
          "output_type": "stream",
          "text": [
            "Archive:  indian-pines-hyperspectral-dataset.zip\n",
            "  inflating: indianpinearray.npy     \n",
            "  inflating: IPgt.npy                \n"
          ],
          "name": "stdout"
        }
      ]
    },
    {
      "cell_type": "code",
      "metadata": {
        "id": "WhOKnBCkLmxZ",
        "colab_type": "code",
        "colab": {}
      },
      "source": [
        "import numpy as np\n",
        "data = np.load('indianpinearray.npy')\n",
        "gt = np.load('IPgt.npy')\n"
      ],
      "execution_count": 0,
      "outputs": []
    },
    {
      "cell_type": "code",
      "metadata": {
        "id": "uMaAO7bU6ynA",
        "colab_type": "code",
        "colab": {}
      },
      "source": [
        "from numpy.random import seed\n",
        "seed(42)\n",
        "\n",
        "\n",
        "from tensorflow import set_random_seed\n",
        "set_random_seed(42)\n"
      ],
      "execution_count": 0,
      "outputs": []
    },
    {
      "cell_type": "code",
      "metadata": {
        "id": "A6lX-Z0W0RXU",
        "colab_type": "code",
        "colab": {}
      },
      "source": [
        "# from sklearn.preprocessing import OneHotEncoder\n",
        "H = data.shape[0]\n",
        "W = data.shape[1]\n",
        "# enc = OneHotEncoder(handle_unknown='ignore',sparse=False)\n",
        "# gt = enc.fit_transform(gt.reshape(-1,1))\n",
        "# gt = gt.reshape(H,W,17)"
      ],
      "execution_count": 0,
      "outputs": []
    },
    {
      "cell_type": "code",
      "metadata": {
        "id": "bPZefS5U3gjI",
        "colab_type": "code",
        "outputId": "a19af661-2915-4717-aaf5-6fc94bf5e08c",
        "colab": {
          "base_uri": "https://localhost:8080/",
          "height": 34
        }
      },
      "source": [
        "from numpy import zeros\n",
        "from numpy import ones\n",
        "from numpy import expand_dims\n",
        "from numpy.random import randn\n",
        "from numpy.random import randint\n",
        "from keras.datasets.fashion_mnist import load_data\n",
        "from keras.optimizers import Adam\n",
        "from keras.models import Model,Sequential\n",
        "from keras.layers import Input\n",
        "from keras.layers import Dense\n",
        "from keras.layers import Reshape\n",
        "from keras.layers import Flatten\n",
        "from keras.layers import Conv2D,Conv1D,multiply\n",
        "from keras.layers import Conv2DTranspose\n",
        "from keras.layers import LeakyReLU\n",
        "# from keras.layers import BatchNormalization\n",
        "from keras.layers import Dropout\n",
        "from keras.layers import Embedding\n",
        "from keras.layers import Activation\n",
        "from keras.layers import Concatenate\n",
        "from keras.layers.convolutional import UpSampling2D, Conv2D, UpSampling1D\n",
        "from keras.initializers import RandomNormal\n",
        "from matplotlib import pyplot\n",
        "from sklearn.decomposition import PCA\n",
        "from sklearn.preprocessing import StandardScaler\n",
        "import pandas as pd\n",
        "import seaborn as sns\n",
        "from skimage.color import label2rgb\n",
        "import matplotlib.pyplot as plt\n",
        "%matplotlib inline"
      ],
      "execution_count": 0,
      "outputs": [
        {
          "output_type": "stream",
          "text": [
            "Using TensorFlow backend.\n"
          ],
          "name": "stderr"
        }
      ]
    },
    {
      "cell_type": "code",
      "metadata": {
        "id": "6HRIx8whY8K9",
        "colab_type": "code",
        "outputId": "5d3262b6-ffb6-4a96-9bac-4c435e210061",
        "colab": {
          "base_uri": "https://localhost:8080/",
          "height": 71
        }
      },
      "source": [
        "import keras.backend as K\n",
        "K.set_learning_phase(1)"
      ],
      "execution_count": 0,
      "outputs": [
        {
          "output_type": "stream",
          "text": [
            "WARNING:tensorflow:From /usr/local/lib/python3.6/dist-packages/keras/backend/tensorflow_backend.py:66: The name tf.get_default_graph is deprecated. Please use tf.compat.v1.get_default_graph instead.\n",
            "\n"
          ],
          "name": "stdout"
        }
      ]
    },
    {
      "cell_type": "code",
      "metadata": {
        "id": "MPElY_I20pEj",
        "colab_type": "code",
        "colab": {}
      },
      "source": [
        "from keras import applications, layers\n",
        "\n",
        "class FrozenBatchNormalization(layers.BatchNormalization):\n",
        "    def call(self, inputs, training=None):\n",
        "        return super().call(inputs=inputs, training=False)\n",
        "\n",
        "# Keep a copy of the original class\n",
        "BatchNormalization = layers.BatchNormalization\n",
        "\n",
        "# Patch the class temporarily\n",
        "layers.BatchNormalization = FrozenBatchNormalization"
      ],
      "execution_count": 0,
      "outputs": []
    },
    {
      "cell_type": "code",
      "metadata": {
        "id": "77RdXF9E4fV4",
        "colab_type": "code",
        "colab": {}
      },
      "source": [
        "def define_discriminator(in_shape=(64,64,3), n_classes=17):\n",
        "\tmodel = Sequential()\n",
        "\n",
        "\tmodel.add(Conv2D(64, kernel_size=(4,4), strides=2, input_shape=in_shape, padding=\"same\"))\n",
        "\tmodel.add(LeakyReLU(alpha=0.2))\n",
        "\n",
        "\tmodel.add(Conv2D(128, kernel_size=(4,4), strides=2, padding=\"same\"))\n",
        "\tmodel.add(LeakyReLU(alpha=0.2))\n",
        "\tmodel.add(BatchNormalization(momentum=0.8))\n",
        "\n",
        "\tmodel.add(Conv2D(256, kernel_size=(4,4), strides=2, padding=\"same\"))\n",
        "\tmodel.add(LeakyReLU(alpha=0.2))\n",
        "\tmodel.add(BatchNormalization(momentum=0.8))\n",
        "\n",
        "\tmodel.add(Conv2D(512, kernel_size=(4,4), strides=2, padding=\"same\"))\n",
        "\tmodel.add(LeakyReLU(alpha=0.2))\n",
        "\tmodel.add(BatchNormalization(momentum=0.8))\n",
        "\n",
        "\tmodel.add(Conv2D(64, kernel_size=(4,4), strides=1, padding=\"same\"))\n",
        "\n",
        "\tmodel.add(Flatten())\n",
        "\n",
        "\n",
        "\timg = Input(shape=in_shape)\n",
        "\tfeatures = model(img)\n",
        "\tvalidity = Dense(1, activation=\"sigmoid\")(features)\n",
        "\tlabel = Dense(n_classes, activation=\"softmax\")(features)\n",
        "\tmodel = Model(img, [validity, label])\n",
        "\topt = Adam(lr=0.0002, beta_1=0.5)\n",
        "\tmodel.summary() \n",
        "\tmodel.compile(loss=['binary_crossentropy', 'sparse_categorical_crossentropy'], optimizer=opt,metrics=['accuracy'])\n",
        "\treturn model"
      ],
      "execution_count": 0,
      "outputs": []
    },
    {
      "cell_type": "code",
      "metadata": {
        "id": "ZDTE3a3n4gmS",
        "colab_type": "code",
        "colab": {}
      },
      "source": [
        "def define_generator(latent_dim, n_classes=17):\n",
        "\tmodel = Sequential()\n",
        "\n",
        "\tmodel.add(Dense(2*2*512, activation=\"relu\", input_dim=latent_dim))\n",
        "\tmodel.add(Reshape((2,2, 512)))\n",
        "\tmodel.add(BatchNormalization(momentum=0.8))\n",
        "\t# model.add(UpSampling2D(size=4))\n",
        "\n",
        "\tmodel.add(Conv2DTranspose(512, kernel_size=(4,4), strides=2, padding=\"same\"))\n",
        "\tmodel.add(Activation(\"relu\"))\n",
        "\tmodel.add(BatchNormalization(momentum=0.8))\n",
        "\n",
        "\t# model.add(UpSampling2D(size=4))\n",
        "\n",
        "\tmodel.add(Conv2DTranspose(256, kernel_size=(4,4), strides=2, padding=\"same\"))\n",
        "\tmodel.add(Activation(\"relu\"))\n",
        "\tmodel.add(BatchNormalization(momentum=0.8))\n",
        "\n",
        "\t# model.add(UpSampling2D(size=4))\n",
        "\n",
        "\tmodel.add(Conv2DTranspose(128, kernel_size=(4,4), strides=2, padding=\"same\"))\n",
        "\tmodel.add(Activation(\"relu\"))\n",
        "\tmodel.add(BatchNormalization(momentum=0.8))\n",
        "\n",
        "\t# model.add(UpSampling2D(size=4))\n",
        "\n",
        "\tmodel.add(Conv2DTranspose(64, kernel_size=(4,4), strides=2, padding=\"same\"))\n",
        "\tmodel.add(Activation(\"relu\"))\n",
        "\tmodel.add(BatchNormalization(momentum=0.8))\n",
        "\n",
        "\t# model.add(UpSampling2D(size=4))\n",
        "\n",
        "\tmodel.add(Conv2DTranspose(3, kernel_size=(4,4), strides=2, padding='same'))\n",
        "\tmodel.add(Activation(\"tanh\"))\n",
        "\tmodel.summary()\n",
        "\n",
        "\tnoise = Input(shape=(latent_dim,))\n",
        "\tlabel = Input(shape=(1,), dtype='int32')\n",
        "\tlabel_embedding = Flatten()(Embedding(n_classes, latent_dim)(label))\n",
        "\n",
        "\tmodel_input = multiply([noise, label_embedding])\n",
        "\timg = model(model_input)\n",
        "\tmodel.summary()\n",
        "\treturn Model([noise, label], img)"
      ],
      "execution_count": 0,
      "outputs": []
    },
    {
      "cell_type": "code",
      "metadata": {
        "id": "7XQfz1MgwD3Y",
        "colab_type": "code",
        "outputId": "7ea1e6bf-27af-4c6a-faca-95861a533da0",
        "colab": {
          "base_uri": "https://localhost:8080/",
          "height": 462
        }
      },
      "source": [
        "!pip install patchify"
      ],
      "execution_count": 0,
      "outputs": [
        {
          "output_type": "stream",
          "text": [
            "Collecting patchify\n",
            "  Downloading https://files.pythonhosted.org/packages/60/62/025771b47474d3cfaf3af1590e7ec37ea98e77d1f5ec681f3549521a24d3/patchify-0.1.1.tar.gz\n",
            "Requirement already satisfied: numpy in /usr/local/lib/python3.6/dist-packages (from patchify) (1.16.5)\n",
            "Requirement already satisfied: scikit-image in /usr/local/lib/python3.6/dist-packages (from patchify) (0.15.0)\n",
            "Requirement already satisfied: matplotlib!=3.0.0,>=2.0.0 in /usr/local/lib/python3.6/dist-packages (from scikit-image->patchify) (3.0.3)\n",
            "Requirement already satisfied: scipy>=0.17.0 in /usr/local/lib/python3.6/dist-packages (from scikit-image->patchify) (1.3.1)\n",
            "Requirement already satisfied: networkx>=2.0 in /usr/local/lib/python3.6/dist-packages (from scikit-image->patchify) (2.3)\n",
            "Requirement already satisfied: PyWavelets>=0.4.0 in /usr/local/lib/python3.6/dist-packages (from scikit-image->patchify) (1.0.3)\n",
            "Requirement already satisfied: imageio>=2.0.1 in /usr/local/lib/python3.6/dist-packages (from scikit-image->patchify) (2.4.1)\n",
            "Requirement already satisfied: pillow>=4.3.0 in /usr/local/lib/python3.6/dist-packages (from scikit-image->patchify) (4.3.0)\n",
            "Requirement already satisfied: pyparsing!=2.0.4,!=2.1.2,!=2.1.6,>=2.0.1 in /usr/local/lib/python3.6/dist-packages (from matplotlib!=3.0.0,>=2.0.0->scikit-image->patchify) (2.4.2)\n",
            "Requirement already satisfied: cycler>=0.10 in /usr/local/lib/python3.6/dist-packages (from matplotlib!=3.0.0,>=2.0.0->scikit-image->patchify) (0.10.0)\n",
            "Requirement already satisfied: kiwisolver>=1.0.1 in /usr/local/lib/python3.6/dist-packages (from matplotlib!=3.0.0,>=2.0.0->scikit-image->patchify) (1.1.0)\n",
            "Requirement already satisfied: python-dateutil>=2.1 in /usr/local/lib/python3.6/dist-packages (from matplotlib!=3.0.0,>=2.0.0->scikit-image->patchify) (2.5.3)\n",
            "Requirement already satisfied: decorator>=4.3.0 in /usr/local/lib/python3.6/dist-packages (from networkx>=2.0->scikit-image->patchify) (4.4.0)\n",
            "Requirement already satisfied: olefile in /usr/local/lib/python3.6/dist-packages (from pillow>=4.3.0->scikit-image->patchify) (0.46)\n",
            "Requirement already satisfied: six in /usr/local/lib/python3.6/dist-packages (from cycler>=0.10->matplotlib!=3.0.0,>=2.0.0->scikit-image->patchify) (1.12.0)\n",
            "Requirement already satisfied: setuptools in /usr/local/lib/python3.6/dist-packages (from kiwisolver>=1.0.1->matplotlib!=3.0.0,>=2.0.0->scikit-image->patchify) (41.2.0)\n",
            "Building wheels for collected packages: patchify\n",
            "  Building wheel for patchify (setup.py) ... \u001b[?25l\u001b[?25hdone\n",
            "  Created wheel for patchify: filename=patchify-0.1.1-cp36-none-any.whl size=1972 sha256=8e0d5e8059da996038a58d9209581f11428e2ec53975f00aad99131d3768d4df\n",
            "  Stored in directory: /root/.cache/pip/wheels/d9/80/60/b50557046af4fd5cf08b521288c5102af598f821c962794790\n",
            "Successfully built patchify\n",
            "Installing collected packages: patchify\n",
            "Successfully installed patchify-0.1.1\n"
          ],
          "name": "stdout"
        }
      ]
    },
    {
      "cell_type": "code",
      "metadata": {
        "id": "Fo9EEAJ-4tYS",
        "colab_type": "code",
        "colab": {}
      },
      "source": [
        "from sklearn.model_selection import train_test_split\n",
        "from sklearn.preprocessing import StandardScaler\n",
        "from patchify import patchify, unpatchify\n",
        "\n",
        "\n",
        "voxel = data.reshape(-1,data.shape[2])\n",
        "scaler = StandardScaler()\n",
        "voxel = scaler.fit_transform(voxel)\n",
        "pca = PCA(n_components=3)\n",
        "principalComponents = pca.fit_transform(voxel)\n",
        "principalDf = pd.DataFrame(data = principalComponents, columns = ['pc'+str(x) for x in range(3)])\n",
        "fullDataX = principalComponents.reshape(H,W,3)\n",
        "fullDataY = gt\n",
        "\n",
        "import cv2\n",
        "paddedDatax = cv2.copyMakeBorder( fullDataX, 32, 31, 32, 31, cv2.BORDER_REPLICATE)\n",
        "\n",
        "\n",
        "X_train = patchify(paddedDatax, (64, 64, 3), step=1).reshape(-1,64,64,3)\n",
        "y_train = fullDataY.reshape(-1,)\n",
        "\n",
        "def generate_real_samples(n_samples):\n",
        "\timages, labels =  X_train, y_train\n",
        "\tix = randint(0, images.shape[0], n_samples)\n",
        "\tX, labels = images[ix], labels[ix]\n",
        "\ty = ones((n_samples, 1))\n",
        "\treturn [X, labels], y\n",
        "\n",
        "def generate_latent_points(latent_dim, n_samples, n_classes=17):\n",
        "\tx_input = randn(latent_dim * n_samples)\n",
        "\tz_input = x_input.reshape(n_samples, latent_dim)\n",
        "\tlabels = randint(0, n_classes, n_samples)\n",
        "\treturn [z_input, labels]\n",
        "\n",
        "def generate_fake_samples(generator, latent_dim, n_samples):\n",
        "\tz_input, labels_input = generate_latent_points(latent_dim, n_samples)\n",
        "\timages = generator.predict([z_input, labels_input])\n",
        "\ty = zeros((n_samples, 1))\n",
        "\treturn [images, labels_input], y\n",
        "\n",
        "def summarize_performance(step, g_model, latent_dim):\n",
        "\tfilename = 'model_%04d.h5' % (step+1)\n",
        "\tg_model.save_weights(filename)\n",
        "\t!cp -f *.h5 /content/drive/My\\ Drive/models\n",
        "\t\n",
        "\n"
      ],
      "execution_count": 0,
      "outputs": []
    },
    {
      "cell_type": "code",
      "metadata": {
        "id": "0hJLrl5c425k",
        "colab_type": "code",
        "colab": {}
      },
      "source": [
        "def train(g_model, d_model, gan_model, latent_dim, n_epochs=600, n_batch=4096):\n",
        "\timport warnings\n",
        "\twarnings.filterwarnings(\"ignore\")\n",
        "\tbat_per_epo = int(20000 / n_batch)\n",
        "\tn_steps = bat_per_epo * n_epochs\n",
        "\thalf_batch = int(n_batch / 2)\n",
        "\tprev_acc1 = 0.20\n",
        "\tfor i in range(n_steps):\n",
        "\t\t[X_real, labels_real], y_real = generate_real_samples( half_batch)\n",
        "\t\t\n",
        "\t\td_loss_real = d_model.train_on_batch(X_real, [y_real, labels_real])\n",
        "\t\t[X_fake, labels_fake], y_fake = generate_fake_samples(g_model, latent_dim, half_batch)\n",
        "\t\tprint(labels_real.shape)\n",
        "\t\td_loss_fake = d_model.train_on_batch(X_fake, [y_fake, labels_fake])\n",
        "\t\td_loss = 0.5 * np.add(d_loss_real, d_loss_fake)\n",
        "\t\t[z_input, z_labels] = generate_latent_points(latent_dim, half_batch)\n",
        "\t\ty_gan = ones((half_batch, 1))\n",
        "\t\tprint(z_input.shape, z_labels.shape ,z_labels.shape)\n",
        "\t\tg_loss = gan_model.train_on_batch([z_input, z_labels], [y_gan, z_labels])\n",
        "\t\top_acc = d_loss[4]\n",
        "\t\tprint (\"Training Metrics: %d [D loss: %f, acc.: %.2f%%, op_acc: %.2f%%] [G loss: %f]\" % (i, d_loss[0], 100*d_loss[3], 100*d_loss[4], g_loss[0]))\n",
        "\n",
        "\t\tif d_loss[4] > prev_acc1:\n",
        "\t\t\tprev_acc1 = d_loss[4]\n",
        "\t\t\tsummarize_performance(i, d_model, latent_dim)\n",
        "\t\t# if (i+1) % (bat_per_epo * 10) == 0:\n",
        "\t\t# \tsummarize_performance(i, d_model, latent_dim)"
      ],
      "execution_count": 0,
      "outputs": []
    },
    {
      "cell_type": "code",
      "metadata": {
        "colab_type": "code",
        "outputId": "a48e635d-4607-44ab-9939-425469dba16c",
        "id": "VNtswNhJGf6C",
        "colab": {
          "base_uri": "https://localhost:8080/",
          "height": 1000
        }
      },
      "source": [
        "latent_dim = 100\n",
        "discriminator = define_discriminator()\n",
        "generator = define_generator(latent_dim)\n",
        "\n",
        "discriminator.trainable = False\n",
        "gan_output = discriminator(generator.output)\n",
        "gan_model = Model(generator.input, gan_output)\n",
        "opt = Adam(lr=0.002, beta_1=0.5)\n",
        "gan_model.compile(loss=['binary_crossentropy', 'sparse_categorical_crossentropy'], optimizer=opt)\n",
        "  \n",
        "#dataset = load_data()\n"
      ],
      "execution_count": 0,
      "outputs": [
        {
          "output_type": "stream",
          "text": [
            "WARNING:tensorflow:From /usr/local/lib/python3.6/dist-packages/keras/backend/tensorflow_backend.py:541: The name tf.placeholder is deprecated. Please use tf.compat.v1.placeholder instead.\n",
            "\n",
            "WARNING:tensorflow:From /usr/local/lib/python3.6/dist-packages/keras/backend/tensorflow_backend.py:4432: The name tf.random_uniform is deprecated. Please use tf.random.uniform instead.\n",
            "\n",
            "WARNING:tensorflow:From /usr/local/lib/python3.6/dist-packages/keras/backend/tensorflow_backend.py:190: The name tf.get_default_session is deprecated. Please use tf.compat.v1.get_default_session instead.\n",
            "\n",
            "WARNING:tensorflow:From /usr/local/lib/python3.6/dist-packages/keras/backend/tensorflow_backend.py:197: The name tf.ConfigProto is deprecated. Please use tf.compat.v1.ConfigProto instead.\n",
            "\n",
            "WARNING:tensorflow:From /usr/local/lib/python3.6/dist-packages/keras/backend/tensorflow_backend.py:203: The name tf.Session is deprecated. Please use tf.compat.v1.Session instead.\n",
            "\n",
            "WARNING:tensorflow:From /usr/local/lib/python3.6/dist-packages/keras/backend/tensorflow_backend.py:207: The name tf.global_variables is deprecated. Please use tf.compat.v1.global_variables instead.\n",
            "\n",
            "WARNING:tensorflow:From /usr/local/lib/python3.6/dist-packages/keras/backend/tensorflow_backend.py:216: The name tf.is_variable_initialized is deprecated. Please use tf.compat.v1.is_variable_initialized instead.\n",
            "\n",
            "WARNING:tensorflow:From /usr/local/lib/python3.6/dist-packages/keras/backend/tensorflow_backend.py:223: The name tf.variables_initializer is deprecated. Please use tf.compat.v1.variables_initializer instead.\n",
            "\n",
            "WARNING:tensorflow:From /usr/local/lib/python3.6/dist-packages/keras/backend/tensorflow_backend.py:2041: The name tf.nn.fused_batch_norm is deprecated. Please use tf.compat.v1.nn.fused_batch_norm instead.\n",
            "\n",
            "Model: \"model_1\"\n",
            "__________________________________________________________________________________________________\n",
            "Layer (type)                    Output Shape         Param #     Connected to                     \n",
            "==================================================================================================\n",
            "input_1 (InputLayer)            (None, 64, 64, 3)    0                                            \n",
            "__________________________________________________________________________________________________\n",
            "sequential_1 (Sequential)       (None, 1024)         3284480     input_1[0][0]                    \n",
            "__________________________________________________________________________________________________\n",
            "dense_1 (Dense)                 (None, 1)            1025        sequential_1[1][0]               \n",
            "__________________________________________________________________________________________________\n",
            "dense_2 (Dense)                 (None, 17)           17425       sequential_1[1][0]               \n",
            "==================================================================================================\n",
            "Total params: 3,302,930\n",
            "Trainable params: 3,301,138\n",
            "Non-trainable params: 1,792\n",
            "__________________________________________________________________________________________________\n",
            "WARNING:tensorflow:From /usr/local/lib/python3.6/dist-packages/keras/optimizers.py:793: The name tf.train.Optimizer is deprecated. Please use tf.compat.v1.train.Optimizer instead.\n",
            "\n",
            "WARNING:tensorflow:From /usr/local/lib/python3.6/dist-packages/keras/backend/tensorflow_backend.py:3657: The name tf.log is deprecated. Please use tf.math.log instead.\n",
            "\n",
            "WARNING:tensorflow:From /usr/local/lib/python3.6/dist-packages/tensorflow_core/python/ops/nn_impl.py:183: where (from tensorflow.python.ops.array_ops) is deprecated and will be removed in a future version.\n",
            "Instructions for updating:\n",
            "Use tf.where in 2.0, which has the same broadcast rule as np.where\n",
            "Model: \"sequential_2\"\n",
            "_________________________________________________________________\n",
            "Layer (type)                 Output Shape              Param #   \n",
            "=================================================================\n",
            "dense_3 (Dense)              (None, 2048)              206848    \n",
            "_________________________________________________________________\n",
            "reshape_1 (Reshape)          (None, 2, 2, 512)         0         \n",
            "_________________________________________________________________\n",
            "batch_normalization_4 (Batch (None, 2, 2, 512)         2048      \n",
            "_________________________________________________________________\n",
            "conv2d_transpose_1 (Conv2DTr (None, 4, 4, 512)         4194816   \n",
            "_________________________________________________________________\n",
            "activation_1 (Activation)    (None, 4, 4, 512)         0         \n",
            "_________________________________________________________________\n",
            "batch_normalization_5 (Batch (None, 4, 4, 512)         2048      \n",
            "_________________________________________________________________\n",
            "conv2d_transpose_2 (Conv2DTr (None, 8, 8, 256)         2097408   \n",
            "_________________________________________________________________\n",
            "activation_2 (Activation)    (None, 8, 8, 256)         0         \n",
            "_________________________________________________________________\n",
            "batch_normalization_6 (Batch (None, 8, 8, 256)         1024      \n",
            "_________________________________________________________________\n",
            "conv2d_transpose_3 (Conv2DTr (None, 16, 16, 128)       524416    \n",
            "_________________________________________________________________\n",
            "activation_3 (Activation)    (None, 16, 16, 128)       0         \n",
            "_________________________________________________________________\n",
            "batch_normalization_7 (Batch (None, 16, 16, 128)       512       \n",
            "_________________________________________________________________\n",
            "conv2d_transpose_4 (Conv2DTr (None, 32, 32, 64)        131136    \n",
            "_________________________________________________________________\n",
            "activation_4 (Activation)    (None, 32, 32, 64)        0         \n",
            "_________________________________________________________________\n",
            "batch_normalization_8 (Batch (None, 32, 32, 64)        256       \n",
            "_________________________________________________________________\n",
            "conv2d_transpose_5 (Conv2DTr (None, 64, 64, 3)         3075      \n",
            "_________________________________________________________________\n",
            "activation_5 (Activation)    (None, 64, 64, 3)         0         \n",
            "=================================================================\n",
            "Total params: 7,163,587\n",
            "Trainable params: 7,160,643\n",
            "Non-trainable params: 2,944\n",
            "_________________________________________________________________\n",
            "Model: \"sequential_2\"\n",
            "_________________________________________________________________\n",
            "Layer (type)                 Output Shape              Param #   \n",
            "=================================================================\n",
            "dense_3 (Dense)              (None, 2048)              206848    \n",
            "_________________________________________________________________\n",
            "reshape_1 (Reshape)          (None, 2, 2, 512)         0         \n",
            "_________________________________________________________________\n",
            "batch_normalization_4 (Batch (None, 2, 2, 512)         2048      \n",
            "_________________________________________________________________\n",
            "conv2d_transpose_1 (Conv2DTr (None, 4, 4, 512)         4194816   \n",
            "_________________________________________________________________\n",
            "activation_1 (Activation)    (None, 4, 4, 512)         0         \n",
            "_________________________________________________________________\n",
            "batch_normalization_5 (Batch (None, 4, 4, 512)         2048      \n",
            "_________________________________________________________________\n",
            "conv2d_transpose_2 (Conv2DTr (None, 8, 8, 256)         2097408   \n",
            "_________________________________________________________________\n",
            "activation_2 (Activation)    (None, 8, 8, 256)         0         \n",
            "_________________________________________________________________\n",
            "batch_normalization_6 (Batch (None, 8, 8, 256)         1024      \n",
            "_________________________________________________________________\n",
            "conv2d_transpose_3 (Conv2DTr (None, 16, 16, 128)       524416    \n",
            "_________________________________________________________________\n",
            "activation_3 (Activation)    (None, 16, 16, 128)       0         \n",
            "_________________________________________________________________\n",
            "batch_normalization_7 (Batch (None, 16, 16, 128)       512       \n",
            "_________________________________________________________________\n",
            "conv2d_transpose_4 (Conv2DTr (None, 32, 32, 64)        131136    \n",
            "_________________________________________________________________\n",
            "activation_4 (Activation)    (None, 32, 32, 64)        0         \n",
            "_________________________________________________________________\n",
            "batch_normalization_8 (Batch (None, 32, 32, 64)        256       \n",
            "_________________________________________________________________\n",
            "conv2d_transpose_5 (Conv2DTr (None, 64, 64, 3)         3075      \n",
            "_________________________________________________________________\n",
            "activation_5 (Activation)    (None, 64, 64, 3)         0         \n",
            "=================================================================\n",
            "Total params: 7,163,587\n",
            "Trainable params: 7,160,643\n",
            "Non-trainable params: 2,944\n",
            "_________________________________________________________________\n"
          ],
          "name": "stdout"
        }
      ]
    },
    {
      "cell_type": "code",
      "metadata": {
        "id": "dC8HpHPK-6fO",
        "colab_type": "code",
        "colab": {}
      },
      "source": [
        "train(generator, discriminator, gan_model, latent_dim)"
      ],
      "execution_count": 0,
      "outputs": []
    },
    {
      "cell_type": "code",
      "metadata": {
        "id": "hcHxsCQORRFA",
        "colab_type": "code",
        "colab": {}
      },
      "source": [
        "from keras.models import load_model\n",
        "GANx = define_discriminator()\n",
        "GANx.load_weights('best_3dGAN.h5')"
      ],
      "execution_count": 0,
      "outputs": []
    },
    {
      "cell_type": "code",
      "metadata": {
        "id": "K9eUwIAYNmzh",
        "colab_type": "code",
        "outputId": "7ba63608-0def-418c-cad3-c7f43520787c",
        "colab": {
          "base_uri": "https://localhost:8080/",
          "height": 612
        }
      },
      "source": [
        "label_image = GANx.predict( X_train )\n",
        "label_image = np.array(label_image[1])\n",
        "y = []\n",
        "for t in label_image:\n",
        "  y.append(np.argmax(t))\n",
        "label_image = np.array(y).reshape(145,145)\n",
        "image_label_overlay = label2rgb(label_image)\n",
        "fig, (ax1, ax2)  = plt.subplots(2,figsize=(10, 10))\n",
        "\n",
        "ax1.imshow(image_label_overlay)\n",
        "image_label_overlay = label2rgb(fullDataY.reshape(145,145))\n",
        "ax2.imshow(image_label_overlay)\n"
      ],
      "execution_count": 0,
      "outputs": [
        {
          "output_type": "execute_result",
          "data": {
            "text/plain": [
              "<matplotlib.image.AxesImage at 0x7fa41cfaa5c0>"
            ]
          },
          "metadata": {
            "tags": []
          },
          "execution_count": 45
        },
        {
          "output_type": "display_data",
          "data": {
            "image/png": "[encoded data removed]",
            "text/plain": [
              "<Figure size 720x720 with 2 Axes>"
            ]
          },
          "metadata": {
            "tags": []
          }
        }
      ]
    },
    {
      "cell_type": "code",
      "metadata": {
        "id": "PGgxIeEJXis4",
        "colab_type": "code",
        "colab": {}
      },
      "source": [
        "print( label_image.shape, fullDataY.shape)"
      ],
      "execution_count": 0,
      "outputs": []
    },
    {
      "cell_type": "code",
      "metadata": {
        "id": "R42n50S7YloO",
        "colab_type": "code",
        "colab": {}
      },
      "source": [
        "pd.DataFrame(data=fullDataY).to_csv(\"y.csv\")"
      ],
      "execution_count": 0,
      "outputs": []
    },
    {
      "cell_type": "code",
      "metadata": {
        "id": "poXPPnHgPFrx",
        "colab_type": "code",
        "colab": {}
      },
      "source": [
        ""
      ],
      "execution_count": 0,
      "outputs": []
    }
  ]
}